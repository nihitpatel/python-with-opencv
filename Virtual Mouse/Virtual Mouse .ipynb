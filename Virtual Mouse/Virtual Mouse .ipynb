{
 "cells": [
  {
   "cell_type": "code",
   "execution_count": 2,
   "metadata": {},
   "outputs": [],
   "source": [
    "import cv2\n",
    "import numpy as np\n",
    "from pynput.mouse import Button,Controller\n",
    "import wx"
   ]
  },
  {
   "cell_type": "code",
   "execution_count": null,
   "metadata": {},
   "outputs": [],
   "source": [
    "import cv2\n",
    "import numpy as np\n",
    "from pynput.mouse import Button, Controller\n",
    "import wx\n",
    "mouse=Controller()\n",
    "\n",
    "app=wx.App(False)\n",
    "(sx,sy)=wx.GetDisplaySize()\n",
    "(camx,camy)=(320,240)\n",
    "\n",
    "lowerBound=np.array([33,80,40])\n",
    "upperBound=np.array([102,255,255])\n",
    "\n",
    "cam= cv2.VideoCapture(0)\n",
    "\n",
    "kernelOpen=np.ones((5,5))\n",
    "kernelClose=np.ones((20,20))\n",
    "pinchFlag=0\n",
    "\n",
    "while True:\n",
    "    ret, img=cam.read()\n",
    "    img=cv2.resize(img,(340,220))\n",
    "\n",
    "    #convert BGR to HSV\n",
    "    imgHSV= cv2.cvtColor(img,cv2.COLOR_BGR2HSV)\n",
    "    # create the Mask\n",
    "    mask=cv2.inRange(imgHSV,lowerBound,upperBound)\n",
    "    #morphology\n",
    "    maskOpen=cv2.morphologyEx(mask,cv2.MORPH_OPEN,kernelOpen)\n",
    "    maskClose=cv2.morphologyEx(maskOpen,cv2.MORPH_CLOSE,kernelClose)\n",
    "\n",
    "    maskFinal=maskClose\n",
    "    conts,h,a=cv2.findContours(maskFinal.copy(),cv2.RETR_EXTERNAL,cv2.CHAIN_APPROX_NONE)\n",
    "\n",
    "    if(len(conts)==2):\n",
    "        if(pinchFlag==1):\n",
    "            pinchFlag=0\n",
    "            mouse.release(Button.left)\n",
    "        x1,y1,w1,h1=cv2.boundingRect(conts[0])\n",
    "        x2,y2,w2,h2=cv2.boundingRect(conts[1])\n",
    "        cv2.rectangle(img,(x1,y1),(x1+w1,y1+h1),(255,0,0),2)\n",
    "        cv2.rectangle(img,(x2,y2),(x2+w2,y2+h2),(255,0,0),2)\n",
    "        cx1=x1+w1/2\n",
    "        cy1=y1+h1/2\n",
    "        cx2=x2+w2/2\n",
    "        cy2=y2+h2/2\n",
    "        cx=(cx1+cx2)/2\n",
    "        cy=(cy1+cy2)/2\n",
    "        cv2.line(img, (cx1,cy1),(cx2,cy2),(255,0,0),2)\n",
    "        cv2.circle(img, (cx,cy),2,(0,0,255),2)\n",
    "        mouseLoc=(sx-(cx*sx/camx), cy*sy/camy)\n",
    "        mouse.position=mouseLoc \n",
    "        while mouse.position!=mouseLoc:\n",
    "            pass\n",
    "    elif(len(conts)==1):\n",
    "        x,y,w,h=cv2.boundingRect(conts[0])\n",
    "        if(pinchFlag==0):\n",
    "            pinchFlag=1\n",
    "            mouse.press(Button.left)\n",
    "        cv2.rectangle(img,(x,y),(x+w,y+h),(255,0,0),2)\n",
    "        cx=x+w/2\n",
    "        cy=y+h/2\n",
    "        cv2.circle(img,(cx,cy),(w+h)/4,(0,0,255),2)\n",
    "        mouseLoc=(sx-(cx*sx/camx), cy*sy/camy)\n",
    "        mouse.position=mouseLoc \n",
    "        while mouse.position!=mouseLoc:\n",
    "            pass\n",
    "    cv2.imshow(\"cam\",img)\n",
    "    cv2.waitKey(5)"
   ]
  },
  {
   "cell_type": "code",
   "execution_count": null,
   "metadata": {
    "collapsed": true
   },
   "outputs": [],
   "source": []
  }
 ],
 "metadata": {
  "celltoolbar": "Raw Cell Format",
  "kernelspec": {
   "display_name": "Python 3",
   "language": "python",
   "name": "python3"
  },
  "language_info": {
   "codemirror_mode": {
    "name": "ipython",
    "version": 3
   },
   "file_extension": ".py",
   "mimetype": "text/x-python",
   "name": "python",
   "nbconvert_exporter": "python",
   "pygments_lexer": "ipython3",
   "version": "3.6.1"
  }
 },
 "nbformat": 4,
 "nbformat_minor": 2
}
